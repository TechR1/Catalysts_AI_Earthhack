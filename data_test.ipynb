{
 "cells": [
  {
   "cell_type": "code",
   "execution_count": 10,
   "metadata": {},
   "outputs": [],
   "source": [
    "import pandas as pd\n",
    "\n",
    "dataset_path = 'try.csv'\n",
    "m_cols = ['id','problem','solution']\n",
    "df = pd.read_csv(dataset_path, encoding='latin-1')"
   ]
  },
  {
   "cell_type": "code",
   "execution_count": 11,
   "metadata": {},
   "outputs": [
    {
     "name": "stdout",
     "output_type": "stream",
     "text": [
      "        id                                            problem  \\\n",
      "0        1  The construction industry is indubitably one o...   \n",
      "1        2  I'm sure you, like me, are feeling the heat - ...   \n",
      "2        3  The massive shift in student learning towards ...   \n",
      "3        4  The fashion industry is one of the top contrib...   \n",
      "4        5  The majority of the materials used in producin...   \n",
      "...    ...                                                ...   \n",
      "1295  1296  The linear 'take, make, dispose' model of prod...   \n",
      "1296  1297  The conundrum we face is the improper disposal...   \n",
      "1297  1298             This solution will help the vegetation   \n",
      "1298  1299  Accumulation and improper disposal of single-u...   \n",
      "1299  1300  The excessive and wasteful resource consumptio...   \n",
      "\n",
      "                                               solution  \n",
      "0     Herein, we propose an innovative approach to m...  \n",
      "1     Imagine standing on a green hill, not a single...  \n",
      "2     Implement a \"\"Book Swap\"\" program within educa...  \n",
      "3     The proposed solution is a garment rental serv...  \n",
      "4     An innovative concept would be a modular elect...  \n",
      "...                                                 ...  \n",
      "1295  Addressing this problem, a two-pronged circula...  \n",
      "1296  The proposed solution is a cutting-edge recycl...  \n",
      "1297               Use old tea bags as compost for soil  \n",
      "1298  My proposed solution is to implement an innova...  \n",
      "1299  Transformation to a sustainable, digital-focus...  \n",
      "\n",
      "[1300 rows x 3 columns]\n"
     ]
    }
   ],
   "source": [
    "print(df)\n"
   ]
  },
  {
   "cell_type": "code",
   "execution_count": 18,
   "metadata": {},
   "outputs": [
    {
     "name": "stdout",
     "output_type": "stream",
     "text": [
      "   id                                            problem  \\\n",
      "0   1  The construction industry is indubitably one o...   \n",
      "1   2  I'm sure you, like me, are feeling the heat - ...   \n",
      "\n",
      "                                            solution  \n",
      "0  Herein, we propose an innovative approach to m...  \n",
      "1  Imagine standing on a green hill, not a single...  \n"
     ]
    }
   ],
   "source": [
    "df1 = df.loc[:1]\n",
    "print(df1)"
   ]
  },
  {
   "cell_type": "code",
   "execution_count": 19,
   "metadata": {},
   "outputs": [],
   "source": [
    "df1.to_csv('test_startup.csv')"
   ]
  },
  {
   "cell_type": "code",
   "execution_count": null,
   "metadata": {},
   "outputs": [],
   "source": [
    "prompt_ini = []"
   ]
  },
  {
   "cell_type": "code",
   "execution_count": 20,
   "metadata": {},
   "outputs": [
    {
     "name": "stdout",
     "output_type": "stream",
     "text": [
      "The construction industry is indubitably one of the significant contributors to global waste, contributing approximately 1.3 billion tons of waste annually, exerting significant pressure on our landfills and natural resources. Traditional construction methods entail single-use designs that require frequent demolitions, leading to resource depletion and wastage.    Herein, we propose an innovative approach to mitigate this problem: Modular Construction. This method embraces recycling and reuse, taking a significant stride towards a circular economy.   Modular construction involves utilizing engineered components in a manufacturing facility that are later assembled on-site. These components are designed for easy disassembling, enabling them to be reused in diverse projects, thus significantly reducing waste and conserving resources.  Not only does this method decrease construction waste by up to 90%, but it also decreases construction time by 30-50%, optimizing both environmental and financial efficiency. This reduction in time corresponds to substantial financial savings for businesses. Moreover, the modular approach allows greater flexibility, adapting to changing needs over time.  We believe, by adopting modular construction, the industry can transit from a 'take, make and dispose' model to a more sustainable 'reduce, reuse, and recycle' model, driving the industry towards a more circular and sustainable future. The feasibility of this concept is already being proven in markets around the globe, indicating its potential for scalability and real-world application.\n",
      "I'm sure you, like me, are feeling the heat - literally! With World Health Organization declaring climate change as \"\"the greatest threat to global health in the 21st century\"\", we're in a race against time to move away from fossil fuels to more efficient, less polluting electrical power. But as we take bold leaps into a green future with electric cars and heating, we're confronted with a new puzzle - generating enough electrical power without using fossil fuels!   Imagine standing on a green hill, not a single towering, noisy windmill in sight, and yet, you're surrounded by wind power generation! Using existing, yet under-utilized technology, I propose a revolutionary approach to harness wind energy on a commercial scale, without those \"\"monstrously large and environmentally damaging windmills\"\". With my idea, we could start construction tomorrow and give our electrical grid the jolt it needs, creating a future where clean, quiet and efficient energy isn't a dream, but a reality we live in. This is not about every home being a power station, but about businesses driving a green revolution from the ground up!\n"
     ]
    }
   ],
   "source": [
    "for index, row in df1.iterrows():\n",
    "    prob = row[\"problem\"]\n",
    "    soln = row[\"solution\"]\n",
    "    prompt_ini.append(\"The problem statement being solved by this startup is the following \"+prob)\n",
    "    prompt_ini.append(\"Their proposed solution to the problem is the folloeing \"+soln)\n",
    "    \n",
    "\n",
    "    "
   ]
  }
 ],
 "metadata": {
  "kernelspec": {
   "display_name": ".venv",
   "language": "python",
   "name": "python3"
  },
  "language_info": {
   "codemirror_mode": {
    "name": "ipython",
    "version": 3
   },
   "file_extension": ".py",
   "mimetype": "text/x-python",
   "name": "python",
   "nbconvert_exporter": "python",
   "pygments_lexer": "ipython3",
   "version": "3.11.4"
  }
 },
 "nbformat": 4,
 "nbformat_minor": 2
}
